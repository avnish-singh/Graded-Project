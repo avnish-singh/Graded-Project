{
 "cells": [
  {
   "cell_type": "markdown",
   "id": "99f5165b",
   "metadata": {},
   "source": [
    "# Data Science Tools and Ecosystem"
   ]
  },
  {
   "cell_type": "markdown",
   "id": "a90f9925",
   "metadata": {},
   "source": [
    "In this notebook, Data Science Tools and Ecosystem are summarized."
   ]
  },
  {
   "cell_type": "markdown",
   "id": "ffcec853",
   "metadata": {},
   "source": [
    "Objectives:\n",
    "•\tIdentify the criteria and roles for determining the language to learn.\n",
    "•\tIdentify the users and benefits of Python.\n",
    "•\tIdentify the users and uses of the R language.\n",
    "•\tDefine SQL elements and list their benefits.\n",
    "•\tReview languages such as Java, Scala, C++, JavaScript, and Julia.\n",
    "•\tList the global communities for connecting with other users.\n"
   ]
  },
  {
   "cell_type": "markdown",
   "id": "0bd382ac",
   "metadata": {},
   "source": [
    "Some of the popular languages that Data Scientists use are:\n",
    "list = [\"PYTHON\", \"R\", \"JAVA\"]\n",
    "list"
   ]
  },
  {
   "cell_type": "markdown",
   "id": "5ae7beb1",
   "metadata": {},
   "source": [
    "Some of the commonly used libraries used by Data Scientists include:\n",
    "list=[\"NumPy\",\"Pandas\",\"SciPy\", \"Matplotlib\", \"TensorFlow\"]\n",
    "list"
   ]
  },
  {
   "cell_type": "markdown",
   "id": "0add1d33",
   "metadata": {},
   "source": [
    "Data Science Tools"
   ]
  },
  {
   "cell_type": "markdown",
   "id": "6e08144b",
   "metadata": {},
   "source": [
    "SAS"
   ]
  },
  {
   "cell_type": "markdown",
   "id": "3a5a1ccc",
   "metadata": {},
   "source": [
    "BigML"
   ]
  },
  {
   "cell_type": "markdown",
   "id": "707c8bcf",
   "metadata": {},
   "source": [
    "Apache Spark"
   ]
  },
  {
   "cell_type": "markdown",
   "id": "3b7a0b50",
   "metadata": {},
   "source": [
    "# Arithmetic operations\n",
    "code = compile(\"5 + 40\", \"<string>\", \"eval\")\n",
    "eval(code)\n",
    "# Result: 45"
   ]
  },
  {
   "cell_type": "code",
   "execution_count": 13,
   "id": "908d1c74",
   "metadata": {},
   "outputs": [
    {
     "data": {
      "text/plain": [
       "17"
      ]
     },
     "execution_count": 13,
     "metadata": {},
     "output_type": "execute_result"
    }
   ],
   "source": [
    "#This a simple arithmetic expression to mutiply then add integers\n",
    "(3*4)+5\n",
    "# Result: 17"
   ]
  },
  {
   "cell_type": "code",
   "execution_count": 16,
   "id": "c375fbc1",
   "metadata": {},
   "outputs": [
    {
     "name": "stdout",
     "output_type": "stream",
     "text": [
      "3.3333333333333335 hours\n"
     ]
    }
   ],
   "source": [
    "#This will convert 200 minutes to hours by diving by 60\n",
    "\n",
    "hours = 0\n",
    "mins = 0\n",
    "\n",
    "time = 200\n",
    "\n",
    "hours = time / 60\n",
    "\n",
    "print(str(hours) + \" hours\")\n",
    "\n",
    "# Result: 3.3333333333333335 hours"
   ]
  },
  {
   "cell_type": "markdown",
   "id": "6a6cf2c4",
   "metadata": {},
   "source": [
    "# Author\n",
    "KHAN ADNAN\n"
   ]
  },
  {
   "cell_type": "code",
   "execution_count": null,
   "id": "24f06c16",
   "metadata": {},
   "outputs": [],
   "source": []
  }
 ],
 "metadata": {
  "kernelspec": {
   "display_name": "Python 3 (ipykernel)",
   "language": "python",
   "name": "python3"
  },
  "language_info": {
   "codemirror_mode": {
    "name": "ipython",
    "version": 3
   },
   "file_extension": ".py",
   "mimetype": "text/x-python",
   "name": "python",
   "nbconvert_exporter": "python",
   "pygments_lexer": "ipython3",
   "version": "3.10.9"
  }
 },
 "nbformat": 4,
 "nbformat_minor": 5
}
